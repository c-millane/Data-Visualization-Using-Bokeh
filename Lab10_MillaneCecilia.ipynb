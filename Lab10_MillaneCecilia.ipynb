{
 "cells": [
  {
   "cell_type": "code",
   "execution_count": 1,
   "metadata": {
    "collapsed": true
   },
   "outputs": [],
   "source": [
    "import pandas as pd\n",
    "\n",
    "from bokeh.io import output_notebook, show, output_file\n",
    "from bokeh.plotting import figure\n",
    "import matplotlib.pyplot as plt\n",
    "%matplotlib inline"
   ]
  },
  {
   "cell_type": "code",
   "execution_count": 2,
   "metadata": {
    "collapsed": true
   },
   "outputs": [],
   "source": [
    "lemon = pd.read_csv(\"Lemonade_Lab10.csv\")"
   ]
  },
  {
   "cell_type": "code",
   "execution_count": 3,
   "metadata": {},
   "outputs": [
    {
     "data": {
      "text/html": [
       "<div>\n",
       "<style>\n",
       "    .dataframe thead tr:only-child th {\n",
       "        text-align: right;\n",
       "    }\n",
       "\n",
       "    .dataframe thead th {\n",
       "        text-align: left;\n",
       "    }\n",
       "\n",
       "    .dataframe tbody tr th {\n",
       "        vertical-align: top;\n",
       "    }\n",
       "</style>\n",
       "<table border=\"1\" class=\"dataframe\">\n",
       "  <thead>\n",
       "    <tr style=\"text-align: right;\">\n",
       "      <th></th>\n",
       "      <th>Date</th>\n",
       "      <th>Location</th>\n",
       "      <th>Lemon</th>\n",
       "      <th>Orange</th>\n",
       "      <th>Temperature</th>\n",
       "      <th>Leaflets</th>\n",
       "      <th>Price</th>\n",
       "    </tr>\n",
       "  </thead>\n",
       "  <tbody>\n",
       "    <tr>\n",
       "      <th>0</th>\n",
       "      <td>7/1/16</td>\n",
       "      <td>Park</td>\n",
       "      <td>97</td>\n",
       "      <td>78</td>\n",
       "      <td>70</td>\n",
       "      <td>90</td>\n",
       "      <td>0.25</td>\n",
       "    </tr>\n",
       "    <tr>\n",
       "      <th>1</th>\n",
       "      <td>7/2/16</td>\n",
       "      <td>Park</td>\n",
       "      <td>98</td>\n",
       "      <td>67</td>\n",
       "      <td>72</td>\n",
       "      <td>90</td>\n",
       "      <td>0.25</td>\n",
       "    </tr>\n",
       "    <tr>\n",
       "      <th>2</th>\n",
       "      <td>7/3/16</td>\n",
       "      <td>Park</td>\n",
       "      <td>110</td>\n",
       "      <td>54</td>\n",
       "      <td>71</td>\n",
       "      <td>104</td>\n",
       "      <td>0.25</td>\n",
       "    </tr>\n",
       "    <tr>\n",
       "      <th>3</th>\n",
       "      <td>7/4/16</td>\n",
       "      <td>Beach</td>\n",
       "      <td>134</td>\n",
       "      <td>56</td>\n",
       "      <td>76</td>\n",
       "      <td>98</td>\n",
       "      <td>0.25</td>\n",
       "    </tr>\n",
       "    <tr>\n",
       "      <th>4</th>\n",
       "      <td>7/5/16</td>\n",
       "      <td>Beach</td>\n",
       "      <td>159</td>\n",
       "      <td>90</td>\n",
       "      <td>78</td>\n",
       "      <td>135</td>\n",
       "      <td>0.25</td>\n",
       "    </tr>\n",
       "  </tbody>\n",
       "</table>\n",
       "</div>"
      ],
      "text/plain": [
       "     Date Location  Lemon  Orange  Temperature  Leaflets  Price\n",
       "0  7/1/16     Park     97      78           70        90   0.25\n",
       "1  7/2/16     Park     98      67           72        90   0.25\n",
       "2  7/3/16     Park    110      54           71       104   0.25\n",
       "3  7/4/16    Beach    134      56           76        98   0.25\n",
       "4  7/5/16    Beach    159      90           78       135   0.25"
      ]
     },
     "execution_count": 3,
     "metadata": {},
     "output_type": "execute_result"
    }
   ],
   "source": [
    "lemon.head()"
   ]
  },
  {
   "cell_type": "code",
   "execution_count": 4,
   "metadata": {
    "collapsed": true
   },
   "outputs": [],
   "source": [
    "p = figure(title = \"Lemon and Orange Sales by Temperature\")\n",
    "#alpha is the transparency \n",
    "p.circle(x = lemon[\"Temperature\"], y = lemon[\"Lemon\"], size = 10, alpha = .5, color = \"green\", legend = \"Lemon\")\n",
    "p.triangle(x = lemon[\"Temperature\"], y = lemon[\"Orange\"], size = 10, alpha = .5, color = \"orange\", legend = \"Orange\")\n",
    "p.legend.location = \"top_left\"\n",
    "show(p)"
   ]
  },
  {
   "cell_type": "code",
   "execution_count": 5,
   "metadata": {
    "collapsed": true
   },
   "outputs": [],
   "source": [
    "grouped = lemon.groupby(\"Temperature\")\n",
    "lem = grouped[\"Lemon\"]\n",
    "avg = lem.mean()\n",
    "std = lem.std()\n",
    "Tem = list(grouped.groups.keys())\n",
    "Park = lemon[lemon[\"Location\"] == \"Park\"]\n",
    "Beach = lemon[lemon[\"Location\"] == \"Beach\"]"
   ]
  },
  {
   "cell_type": "code",
   "execution_count": 6,
   "metadata": {
    "collapsed": true
   },
   "outputs": [],
   "source": [
    "#The higher the temperature the higher the average sales"
   ]
  },
  {
   "cell_type": "code",
   "execution_count": 7,
   "metadata": {
    "collapsed": true
   },
   "outputs": [],
   "source": [
    "p = figure(title = \"Temperature vs Lemon Sales (Park and Beach)\")\n",
    "p.vbar(x = Tem, bottom = avg - std, top = avg + std, width = .8, fill_alpha = .2, line_color = None, legend = \"Lemon Revenue 1 stddev\")\n",
    "p.circle(x = Beach[\"Temperature\"], y = Beach[\"Lemon\"], size = 10, alpha = .5, color = \"red\", legend = \"Sales at Beach\" )\n",
    "p.triangle(x = Park[\"Temperature\"], y = Park[\"Lemon\"], size = 10, alpha = .5, color = \"blue\", legend = \"Sales at Park\")\n",
    "show(p)"
   ]
  },
  {
   "cell_type": "code",
   "execution_count": null,
   "metadata": {
    "collapsed": true
   },
   "outputs": [],
   "source": [
    "#The higher the temperature the higher the average is for sales.\n",
    "#Only park sales happen at the lowest temperatures."
   ]
  }
 ],
 "metadata": {
  "kernelspec": {
   "display_name": "Python 3",
   "language": "python",
   "name": "python3"
  },
  "language_info": {
   "codemirror_mode": {
    "name": "ipython",
    "version": 3
   },
   "file_extension": ".py",
   "mimetype": "text/x-python",
   "name": "python",
   "nbconvert_exporter": "python",
   "pygments_lexer": "ipython3",
   "version": "3.6.1"
  }
 },
 "nbformat": 4,
 "nbformat_minor": 2
}
